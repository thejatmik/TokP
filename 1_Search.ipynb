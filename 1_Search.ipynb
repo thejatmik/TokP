{
 "cells": [
  {
   "cell_type": "markdown",
   "metadata": {},
   "source": [
    "# Searching for products on TokPed with Python\n",
    "I can do casual python, but I rarely do HTML. "
   ]
  },
  {
   "cell_type": "markdown",
   "metadata": {},
   "source": [
    "# [1] Get URL and load with Selenium + BeautifulSoup\n",
    "Selenium provide webdriver which is simply a browser which I choose between Chrome of Firefox. It will load given url and get the page source with BeautifulSoup.\n",
    "\n",
    "I got this step inspired by a feature that both browsers provide, which is inspect element. "
   ]
  },
  {
   "cell_type": "code",
   "execution_count": null,
   "metadata": {
    "collapsed": true
   },
   "outputs": [],
   "source": [
    "from selenium import webdriver\n",
    "from bs4 import BeautifulSoup\n",
    "from lxml import html\n",
    "import requests\n",
    "import time\n",
    "\n",
    "pp = pprint.PrettyPrinter(width=90)\n",
    "browser = webdriver.Firefox()\n",
    "\n",
    "url = 'https://www.tokopedia.com/search?st=product&q='\n",
    "product_to_search = 'kaos'\n",
    "new_t = '&condition=1'\n",
    "pagenum = '&page=1'\n",
    "current_url = url+product_to_search+new_t+pagenum\n",
    "print(current_url)\n",
    "\n",
    "browser.get(current_url)\n",
    "soup = BeautifulSoup(browser.page_source, 'lxml')\n",
    "\n",
    "browser.close()"
   ]
  },
  {
   "cell_type": "markdown",
   "metadata": {},
   "source": [
    "Normally both webdriver will load the page completely before saving the page source. \n",
    "\n",
    "The key of this project is getting everything inside content-container."
   ]
  },
  {
   "cell_type": "markdown",
   "metadata": {},
   "source": [
    "# [2] Extracting content\n",
    "Easy way to explain is that all information about search result has been saved through webdriver and BeautifulSoup, what I do now is just simple string extraction with HTML style.\n",
    "\n",
    "Luckily the structure itself is simple for extraction. Using BeautifulSoup is more than enough."
   ]
  },
  {
   "cell_type": "markdown",
   "metadata": {},
   "source": [
    "Product name are store in class \"product-name ng-binding\"."
   ]
  },
  {
   "cell_type": "code",
   "execution_count": null,
   "metadata": {
    "collapsed": true
   },
   "outputs": [],
   "source": [
    "cont_name = soup.findAll(\"div\", {\"class\": \"product-name ng-binding\"})\n",
    "str_pname = [cont_name[i].string for i in range(len(cont_name))]"
   ]
  },
  {
   "cell_type": "markdown",
   "metadata": {},
   "source": [
    "Different trick to get product link, first I scan every container that has \"anchor element\" which contain hyperlinks.\n",
    "TIL, Anchor element has tag \"<\"a /a>."
   ]
  },
  {
   "cell_type": "code",
   "execution_count": null,
   "metadata": {
    "collapsed": true
   },
   "outputs": [],
   "source": [
    "all_links = soup.findAll(\"a\")"
   ]
  },
  {
   "cell_type": "markdown",
   "metadata": {},
   "source": [
    "Each one container will have two keys which I extract.\n",
    "\n",
    "\"string\" that contain any text following the link.\n",
    "\n",
    "\"href\" which is the link itself.\n",
    "\n",
    "What I do is that I keep any \"href\" which has matching \"string\" with product name we had before."
   ]
  },
  {
   "cell_type": "code",
   "execution_count": null,
   "metadata": {
    "collapsed": true
   },
   "outputs": [],
   "source": [
    "all_strs = [all_links[i].string for i in range(len(all_links))]\n",
    "str_plinks = []\n",
    "for i in range(len(str_pname)):\n",
    "    try:\n",
    "        id_l = all_strs.index(str_pname[i])\n",
    "    except ValueError:\n",
    "        continue\n",
    "    str_plinks.append(all_links[id_l].get(\"href\"))"
   ]
  },
  {
   "cell_type": "markdown",
   "metadata": {},
   "source": [
    "Same concept with product name, product price are stored in class \"product-price ng-binding\"."
   ]
  },
  {
   "cell_type": "code",
   "execution_count": null,
   "metadata": {
    "collapsed": true
   },
   "outputs": [],
   "source": [
    "cont_price = soup.findAll(\"div\", {\"class\": \"product-price ng-binding\"})\n",
    "str_pprice = [cont_price[i].string for i in range(len(cont_price))]"
   ]
  },
  {
   "cell_type": "markdown",
   "metadata": {},
   "source": [
    "# [3] Print!\n",
    "And now we can print what we've got, every product listed on page 1 with search key \"kaos\" on TokPed."
   ]
  },
  {
   "cell_type": "code",
   "execution_count": null,
   "metadata": {
    "collapsed": true
   },
   "outputs": [],
   "source": [
    "for i in range(len(str_pname)):\n",
    "    print(str_pname[i],str_pprice[i],str_plinks[i])"
   ]
  },
  {
   "cell_type": "code",
   "execution_count": 15,
   "metadata": {
    "scrolled": false
   },
   "outputs": [
    {
     "name": "stdout",
     "output_type": "stream",
     "text": [
      "Kaos Polos Katun Bambu (Cotton Bamboo T-Shirt) Rp 57.500 https://www.tokopedia.com/sallyshopfashion/kaos-polos-katun-bambu-cotton-bamboo-t-shirt?trkid=f%3DCa1808L000P0W0S0Sh00Co0Po0Fr0Cb0_src%3Ddirectory_page%3D1_ob%3D24_q%3D_ref%3Dcsearch_po%3D1_catid%3D1808\n",
      "Baju Kaos Pria Henley Oblong Original by RAVA (PROMO BEST SELLER) Rp 65.000 https://www.tokopedia.com/ravaid/baju-kaos-pria-henley-oblong-original-by-rava-promo-best-seller?trkid=f%3DCa1808L000P0W0S0Sh00Co0Po0Fr0Cb0_src%3Ddirectory_page%3D1_ob%3D24_q%3D_ref%3Dcsearch_po%3D2_catid%3D1808\n",
      "Kaos Polos Lengan Pendek SoftCombed 30s Rp 24.900 https://www.tokopedia.com/supplierkaosid/kaos-polos-lengan-pendek-softcombed-30s?trkid=f%3DCa1808L000P0W0S0Sh00Co0Po0Fr0Cb0_src%3Ddirectory_page%3D1_ob%3D24_q%3D_ref%3Dcsearch_po%3D3_catid%3D1808\n",
      "Kaos Polos Katun Bambu (Cotton Bamboo) V-Neck Rp 59.000 https://www.tokopedia.com/sallyshopfashion/kaos-polos-katun-bambu-cotton-bamboo-v-neck?trkid=f%3DCa1808L000P0W0S0Sh00Co0Po0Fr0Cb0_src%3Ddirectory_page%3D1_ob%3D24_q%3D_ref%3Dcsearch_po%3D4_catid%3D1808\n",
      "Kaos Dalam / Kaos Oblong Pria Rider Putih Round Neck Anti Melar r223b Rp 32.500 https://www.tokopedia.com/tomscorner/kaos-dalam-kaos-oblong-pria-rider-putih-round-neck-anti-melar-r223b?trkid=f%3DCa1808L000P0W0S0Sh00Co0Po0Fr0Cb0_src%3Ddirectory_page%3D1_ob%3D24_q%3D_ref%3Dcsearch_po%3D5_catid%3D1808\n",
      "Kaos Polos Misty / Twotone 30s ( Banyak Pilihan Warna ) Rp 37.500 https://www.tokopedia.com/altervendor/kaos-polos-misty-twotone-30s-banyak-pilihan-warna?trkid=f%3DCa1808L000P0W0S0Sh00Co0Po0Fr0Cb0_src%3Ddirectory_page%3D1_ob%3D24_q%3D_ref%3Dcsearch_po%3D6_catid%3D1808\n",
      "Kaos polos Gildan Premium 76000 MAN Original Import Murah S M L XL Rp 40.000 https://www.tokopedia.com/grosirclo/kaos-polos-gildan-premium-76000-man-original-import-murah-s-m-l-xl?trkid=f%3DCa1808L000P0W0S0Sh00Co0Po0Fr0Cb0_src%3Ddirectory_page%3D1_ob%3D24_q%3D_ref%3Dcsearch_po%3D7_catid%3D1808\n",
      "Baju Kaos Pria Henley Lengan Panjang Misty by RAVA (BEST SELLER) Rp 69.000 https://www.tokopedia.com/ravaid/baju-kaos-pria-henley-lengan-panjang-misty-by-rava-best-seller?trkid=f%3DCa1808L000P0W0S0Sh00Co0Po0Fr0Cb0_src%3Ddirectory_page%3D1_ob%3D24_q%3D_ref%3Dcsearch_po%3D8_catid%3D1808\n",
      "Baju Kaos Pria Raglan Henley Oblong by RAVA PREMIUM (BEST SELLER) Rp 65.000 https://www.tokopedia.com/ravaid/baju-kaos-pria-raglan-henley-oblong-by-rava-premium-best-seller?trkid=f%3DCa1808L000P0W0S0Sh00Co0Po0Fr0Cb0_src%3Ddirectory_page%3D1_ob%3D24_q%3D_ref%3Dcsearch_po%3D9_catid%3D1808\n",
      "Baju Kaos Pria Henley Lengan Panjang ORIGINAL by RAVA (BEST SELLER) Rp 69.000 https://www.tokopedia.com/ravaid/baju-kaos-pria-henley-lengan-panjang-original-by-rava-best-seller?trkid=f%3DCa1808L000P0W0S0Sh00Co0Po0Fr0Cb0_src%3Ddirectory_page%3D1_ob%3D24_q%3D_ref%3Dcsearch_po%3D10_catid%3D1808\n",
      "Kaos Baju Gildan Softstyle White 63000 Putih Original GROSIR S M L XL Rp 28.000 https://www.tokopedia.com/profesorsablon/kaos-baju-gildan-softstyle-white-63000-putih-original-grosir-s-m-l-xl?trkid=f%3DCa1808L000P0W0S0Sh00Co0Po0Fr0Cb0_src%3Ddirectory_page%3D1_ob%3D24_q%3D_ref%3Dcsearch_po%3D11_catid%3D1808\n",
      "kaos baju gildan softstyle 63000 original murah S M L XL Rp 32.000 https://www.tokopedia.com/grosirclo/kaos-baju-gildan-softstyle-63000-original-murah-s-m-l-xl?trkid=f%3DCa1808L000P0W0S0Sh00Co0Po0Fr0Cb0_src%3Ddirectory_page%3D1_ob%3D24_q%3D_ref%3Dcsearch_po%3D12_catid%3D1808\n",
      "kaos polos gildan premium original murah jakarta Rp 40.000 https://www.tokopedia.com/grosirclo/kaos-polos-gildan-premium-original-murah-jakarta?trkid=f%3DCa1808L000P0W0S0Sh00Co0Po0Fr0Cb0_src%3Ddirectory_page%3D1_ob%3D24_q%3D_ref%3Dcsearch_po%3D13_catid%3D1808\n",
      "Kaos Baju Gildan Softstyle Colour 63000 warna Original GROSIR S M L XL Rp 31.900 https://www.tokopedia.com/profesorsablon/kaos-baju-gildan-softstyle-colour-63000-warna-original-grosir-s-m-l-xl?trkid=f%3DCa1808L000P0W0S0Sh00Co0Po0Fr0Cb0_src%3Ddirectory_page%3D1_ob%3D24_q%3D_ref%3Dcsearch_po%3D14_catid%3D1808\n",
      "Kaos polos Gildan softstyle 63000 Import Original murah XS S M L XL Rp 32.000 https://www.tokopedia.com/grosirclo/kaos-polos-gildan-softstyle-63000-import-original-murah-xs-s-m-l-xl?trkid=f%3DCa1808L000P0W0S0Sh00Co0Po0Fr0Cb0_src%3Ddirectory_page%3D1_ob%3D24_q%3D_ref%3Dcsearch_po%3D15_catid%3D1808\n",
      "Kaos Gildan Polos Softstyle 63000 Rp 31.900 https://www.tokopedia.com/profesorsablon/kaos-gildan-polos-softstyle-63000?trkid=f%3DCa1808L000P0W0S0Sh00Co0Po0Fr0Cb0_src%3Ddirectory_page%3D1_ob%3D24_q%3D_ref%3Dcsearch_po%3D16_catid%3D1808\n",
      "Kaos Polos Bahan Asli Cotton Combed 30s Size S M L Bandung Rp 28.000 https://www.tokopedia.com/sinceritycloth/kaos-polos-bahan-asli-cotton-combed-30s-size-s-m-l-bandung?trkid=f%3DCa1808L000P0W0S0Sh00Co0Po0Fr0Cb0_src%3Ddirectory_page%3D1_ob%3D24_q%3D_ref%3Dcsearch_po%3D17_catid%3D1808\n",
      "Kaos Polos Hoodie Lengan Pendek Rp 75.000 https://www.tokopedia.com/flipstore8/kaos-polos-hoodie-lengan-pendek-1?trkid=f%3DCa1808L000P0W0S0Sh00Co0Po0Fr0Cb0_src%3Ddirectory_page%3D1_ob%3D24_q%3D_ref%3Dcsearch_po%3D18_catid%3D1808\n",
      "kaos polos GILDAN softstyle 63000 Rp 28.000 https://www.tokopedia.com/darkcrozz/kaos-polos-gildan-softstyle-63000?trkid=f%3DCa1808L000P0W0S0Sh00Co0Po0Fr0Cb0_src%3Ddirectory_page%3D1_ob%3D24_q%3D_ref%3Dcsearch_po%3D19_catid%3D1808\n",
      "Kaos Gildan Premium Long Sleeve 76400 Lengan Panjang Polos Rp 55.000 https://www.tokopedia.com/profesorsablon/kaos-gildan-premium-long-sleeve-76400-lengan-panjang-polos?trkid=f%3DCa1808L000P0W0S0Sh00Co0Po0Fr0Cb0_src%3Ddirectory_page%3D1_ob%3D24_q%3D_ref%3Dcsearch_po%3D20_catid%3D1808\n",
      "kaos polos gildan softstyle original murah jakarta Rp 32.000 https://www.tokopedia.com/grosirclo/kaos-polos-gildan-softstyle-original-murah-jakarta?trkid=f%3DCa1808L000P0W0S0Sh00Co0Po0Fr0Cb0_src%3Ddirectory_page%3D1_ob%3D24_q%3D_ref%3Dcsearch_po%3D21_catid%3D1808\n",
      "Kaos Baju Gildan Softstyle Colour 63000 warna Original GROSIR XXL Rp 38.000 https://www.tokopedia.com/profesorsablon/kaos-baju-gildan-softstyle-colour-63000-warna-original-grosir-xxl?trkid=f%3DCa1808L000P0W0S0Sh00Co0Po0Fr0Cb0_src%3Ddirectory_page%3D1_ob%3D24_q%3D_ref%3Dcsearch_po%3D22_catid%3D1808\n",
      "Kaos Gildan Softstyle Polos Tanpa Jahitan Samping Hitam Combed 30s Rp 31.500 https://www.tokopedia.com/truckerhat/kaos-gildan-softstyle-polos-tanpa-jahitan-samping-hitam-combed-30s?trkid=f%3DCa1808L000P0W0S0Sh00Co0Po0Fr0Cb0_src%3Ddirectory_page%3D1_ob%3D24_q%3D_ref%3Dcsearch_po%3D23_catid%3D1808\n",
      "Kaos Polos Raglan lengan Panjang Rp 25.000 https://www.tokopedia.com/nafilahshop/kaos-polos-raglan-lengan-panjang-1?trkid=f%3DCa1808L000P0W0S0Sh00Co0Po0Fr0Cb0_src%3Ddirectory_page%3D1_ob%3D24_q%3D_ref%3Dcsearch_po%3D24_catid%3D1808\n",
      "Kaos Polos GILDAN Premium Cotton (XS, S, M, L, XL) Rp 42.000 https://www.tokopedia.com/lexbonk/kaos-polos-gildan-premium-cotton-xs-s-m-l-xl?trkid=f%3DCa1808L000P0W0S0Sh00Co0Po0Fr0Cb0_src%3Ddirectory_page%3D1_ob%3D24_q%3D_ref%3Dcsearch_po%3D25_catid%3D1808\n",
      "Kaos Polos NEW STATES APPAREL ( NSA ) 3600 SOFTSTYLE MURAH S M L XL Rp 30.000 https://www.tokopedia.com/grosirclo/kaos-polos-new-states-apparel-nsa-3600-softstyle-murah-s-m-l-xl?trkid=f%3DCa1808L000P0W0S0Sh00Co0Po0Fr0Cb0_src%3Ddirectory_page%3D1_ob%3D24_q%3D_ref%3Dcsearch_po%3D26_catid%3D1808\n",
      "Kaos Polos Bahan Asli Cotton Combed 30s Size XL Bandung Rp 30.000 https://www.tokopedia.com/sinceritycloth/kaos-polos-bahan-asli-cotton-combed-30s-size-xl-bandung?trkid=f%3DCa1808L000P0W0S0Sh00Co0Po0Fr0Cb0_src%3Ddirectory_page%3D1_ob%3D24_q%3D_ref%3Dcsearch_po%3D27_catid%3D1808\n",
      "KAOS OBLONG GT MAN MODEL O GTS01 & MODEL V TSGV KHUSUS PUTIH Rp 32.000 https://www.tokopedia.com/yuzna/kaos-oblong-gt-man-model-o-gts01-model-v-tsgv-khusus-putih?trkid=f%3DCa1808L000P0W0S0Sh00Co0Po0Fr0Cb0_src%3Ddirectory_page%3D1_ob%3D24_q%3D_ref%3Dcsearch_po%3D28_catid%3D1808\n",
      "KAOS POLOS COTTON COMBED 30S Rp 24.999 https://www.tokopedia.com/jerseydistributo/kaos-polos-cotton-combed-30s?trkid=f%3DCa1808L000P0W0S0Sh00Co0Po0Fr0Cb0_src%3Ddirectory_page%3D1_ob%3D24_q%3D_ref%3Dcsearch_po%3D29_catid%3D1808\n",
      "Kaos Polos FoTL (Fruit of The Loom) Soft Premium Rp 55.000 https://www.tokopedia.com/lexbonk/kaos-polos-fotl-fruit-of-the-loom-soft-premium?trkid=f%3DCa1808L000P0W0S0Sh00Co0Po0Fr0Cb0_src%3Ddirectory_page%3D1_ob%3D24_q%3D_ref%3Dcsearch_po%3D30_catid%3D1808\n",
      "kemeja flannel flanel branded premium Rp 85.000 https://www.tokopedia.com/bangonel/kemeja-flannel-flanel-branded-premium?trkid=f%3DCa1808L000P0W0S0Sh00Co0Po0Fr0Cb0_src%3Ddirectory_page%3D1_ob%3D24_q%3D_ref%3Dcsearch_po%3D31_catid%3D1808\n",
      "Kaos Polos Gildan 63000 Softstyle Built Up T-shirt Rp 35.000 https://www.tokopedia.com/gallerybasic/kaos-polos-gildan-63000-softstyle-built-up-t-shirt?trkid=f%3DCa1808L000P0W0S0Sh00Co0Po0Fr0Cb0_src%3Ddirectory_page%3D1_ob%3D24_q%3D_ref%3Dcsearch_po%3D32_catid%3D1808\n",
      "Kaos Polos Cotton Combed 30s Long Sleeve size S M L Rp 34.000 https://www.tokopedia.com/sinceritycloth/kaos-polos-cotton-combed-30s-long-sleeve-size-s-m-l?trkid=f%3DCa1808L000P0W0S0Sh00Co0Po0Fr0Cb0_src%3Ddirectory_page%3D1_ob%3D24_q%3D_ref%3Dcsearch_po%3D33_catid%3D1808\n",
      "Kaos Polos Katun Bambu Tangan Panjang (Long Sleeve Cotton Bamboo) Rp 67.500 https://www.tokopedia.com/sallyshopfashion/kaos-polos-katun-bambu-tangan-panjang-long-sleeve-cotton-bamboo?trkid=f%3DCa1808L000P0W0S0Sh00Co0Po0Fr0Cb0_src%3Ddirectory_page%3D1_ob%3D24_q%3D_ref%3Dcsearch_po%3D34_catid%3D1808\n",
      "Kaos Gildan Softstyle Polos Tanpa Jahitan Samping Putih Combed 30s Rp 29.000 https://www.tokopedia.com/truckerhat/kaos-gildan-softstyle-polos-tanpa-jahitan-samping-putih-combed-30s?trkid=f%3DCa1808L000P0W0S0Sh00Co0Po0Fr0Cb0_src%3Ddirectory_page%3D1_ob%3D24_q%3D_ref%3Dcsearch_po%3D35_catid%3D1808\n",
      "Kaos Polos GILDAN Softstyle (XS, S, M, L, XL) Rp 32.000 https://www.tokopedia.com/lexbonk/kaos-polos-gildan-softstyle-xs-s-m-l-xl?trkid=f%3DCa1808L000P0W0S0Sh00Co0Po0Fr0Cb0_src%3Ddirectory_page%3D1_ob%3D24_q%3D_ref%3Dcsearch_po%3D36_catid%3D1808\n",
      "NEW !! Kaos Polos O-Neck Rp 35.000 https://www.tokopedia.com/manlycloth95/new-kaos-polos-o-neck?trkid=f%3DCa1808L000P0W0S0Sh00Co0Po0Fr0Cb0_src%3Ddirectory_page%3D1_ob%3D24_q%3D_ref%3Dcsearch_po%3D37_catid%3D1808\n",
      "Baju Kaos Pria Raglan Henley oblong by RAVA PREMIUM (BEST PRODUCT) Rp 65.000 https://www.tokopedia.com/ravaid/baju-kaos-pria-raglan-henley-oblong-by-rava-premium-best-product?trkid=f%3DCa1808L000P0W0S0Sh00Co0Po0Fr0Cb0_src%3Ddirectory_page%3D1_ob%3D24_q%3D_ref%3Dcsearch_po%3D38_catid%3D1808\n",
      "Grosir Kaos Islami Lengan Panjang # 01 Rp 50.000 https://www.tokopedia.com/yahya-kaos/grosir-kaos-islami-lengan-panjang-01?trkid=f%3DCa1808L000P0W0S0Sh00Co0Po0Fr0Cb0_src%3Ddirectory_page%3D1_ob%3D24_q%3D_ref%3Dcsearch_po%3D39_catid%3D1808\n",
      "PROMO 100RB 3PCS KAOS BAJU POLOS PREMIUM PRIA DAN WANITA Rp 33.500 https://www.tokopedia.com/pclothesstore/promo-100rb-3pcs-kaos-baju-polos-premium-pria-dan-wanita?trkid=f%3DCa1808L000P0W0S0Sh00Co0Po0Fr0Cb0_src%3Ddirectory_page%3D1_ob%3D24_q%3D_ref%3Dcsearch_po%3D40_catid%3D1808\n"
     ]
    }
   ],
   "source": []
  },
  {
   "cell_type": "markdown",
   "metadata": {},
   "source": [
    "# [4] What to improve\n",
    "Well of course for data mining, expanding search page and adding more details to search result.\n",
    "\n",
    "Let's see if I could pull them out and get more insight to it."
   ]
  }
 ],
 "metadata": {
  "kernelspec": {
   "display_name": "Python 3",
   "language": "python",
   "name": "python3"
  },
  "language_info": {
   "codemirror_mode": {
    "name": "ipython",
    "version": 3
   },
   "file_extension": ".py",
   "mimetype": "text/x-python",
   "name": "python",
   "nbconvert_exporter": "python",
   "pygments_lexer": "ipython3",
   "version": "3.6.3"
  }
 },
 "nbformat": 4,
 "nbformat_minor": 2
}
